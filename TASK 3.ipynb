{
  "nbformat": 4,
  "nbformat_minor": 0,
  "metadata": {
    "colab": {
      "name": "TASK 3.ipynb",
      "provenance": [],
      "include_colab_link": true
    },
    "kernelspec": {
      "name": "python3",
      "display_name": "Python 3"
    },
    "language_info": {
      "name": "python"
    }
  },
  "cells": [
    {
      "cell_type": "markdown",
      "metadata": {
        "id": "view-in-github",
        "colab_type": "text"
      },
      "source": [
        "<a href=\"https://colab.research.google.com/github/adilsp5075/LEARN.PY/blob/main/TASK%203.ipynb\" target=\"_parent\"><img src=\"https://colab.research.google.com/assets/colab-badge.svg\" alt=\"Open In Colab\"/></a>"
      ]
    },
    {
      "cell_type": "markdown",
      "metadata": {
        "id": "z20IIB0eUQMN"
      },
      "source": [
        "1 - Write a program which takes a number as input from the user and check whether the number is odd or even.If odd print the number is odd if not print it is even."
      ]
    },
    {
      "cell_type": "code",
      "metadata": {
        "id": "dVgGJ-wTVRit",
        "outputId": "8f3d3fe0-94ba-4c20-db19-5af844f81bcd",
        "colab": {
          "base_uri": "https://localhost:8080/"
        }
      },
      "source": [
        "#please enter your answer below this line\n",
        "n = int(input(\"Enter a number: \"))\n",
        "if (n % 2) == 0:\n",
        "    print(\"number is even\")\n",
        "else:\n",
        "    print(\"number is odd\")"
      ],
      "execution_count": 1,
      "outputs": [
        {
          "output_type": "stream",
          "text": [
            "Enter a number: 4\n",
            "number is even\n"
          ],
          "name": "stdout"
        }
      ]
    },
    {
      "cell_type": "markdown",
      "metadata": {
        "id": "7778XD8PVblj"
      },
      "source": [
        "2 -Write a program to find the largest among three numbers and print the largest number."
      ]
    },
    {
      "cell_type": "code",
      "metadata": {
        "id": "m0tUOkOFWR-d",
        "outputId": "408d3b9f-39ab-441f-9e3c-da398b64d723",
        "colab": {
          "base_uri": "https://localhost:8080/"
        }
      },
      "source": [
        "#please enter your answer below this line\n",
        "num1 = input(\"Enter first number: \")\n",
        "num2 = input(\"Enter second number: \")\n",
        "num3 = input(\"Enter third number: \")\n",
        "\n",
        "if (num1 >= num2) and (num1 >= num3):\n",
        "    large=num1\n",
        "elif (num2 >= num1) and (num2 >= num3):\n",
        "    large=num2\n",
        "else:\n",
        "    large=num3\n",
        "print(\"The largest number is\", large)\n"
      ],
      "execution_count": 2,
      "outputs": [
        {
          "output_type": "stream",
          "text": [
            "Enter first number: 1\n",
            "Enter second number: 5\n",
            "Enter third number: 4\n",
            "The largest number is 5\n"
          ],
          "name": "stdout"
        }
      ]
    },
    {
      "cell_type": "markdown",
      "metadata": {
        "id": "Jg2Ns4OQWaJy"
      },
      "source": [
        "3 -Write a function to prompt for a score between 0.0 and 1.0.\n",
        "\n",
        "    If the score is out of range, print an error.\n",
        "    If the score is between 0.0 and 1.0, print a grade using the following table:\n",
        "    Score Grade\n",
        "             Score\tGrade\n",
        "            >= 0.9\tA\n",
        "            >= 0.8\tB\n",
        "            >= 0.7\tC\n",
        "            >= 0.6\tD\n",
        "             < 0.6\tF\n",
        "If the user enters a value out of range, print a suitable error message and exit. For the test, enter a score of 0.85."
      ]
    },
    {
      "cell_type": "code",
      "metadata": {
        "id": "6DLbGe6XXZPx",
        "outputId": "2e85abc1-c53c-4249-b62b-833bdfa6e119",
        "colab": {
          "base_uri": "https://localhost:8080/"
        }
      },
      "source": [
        "#please enter your answer below this line\n",
        "num = float(input(\"Enter mark between 0.0 and 1.0 \"))\n",
        "if (num >= 0.9) and (num <=1.0):\n",
        "    print ('A')\n",
        "elif (num >= 0.8) and (num <0.9):\n",
        "    print ('B')\n",
        "elif (num >= 0.7) and (num <0.8):\n",
        "    print ('C')\n",
        "elif (num >= 0.6) and (num <0.7):\n",
        "    print ('D')\n",
        "elif (num < 0.6) and (num >0.0):\n",
        "    print('F')\n",
        "else:\n",
        "    print(\"error\")\n"
      ],
      "execution_count": 4,
      "outputs": [
        {
          "output_type": "stream",
          "text": [
            "Enter mark between 0.0 and 1.0 0.85\n",
            "B\n"
          ],
          "name": "stdout"
        }
      ]
    },
    {
      "cell_type": "markdown",
      "metadata": {
        "id": "-o0scDq7WkVT"
      },
      "source": [
        ""
      ]
    }
  ]
}